{
 "cells": [
  {
   "cell_type": "code",
   "execution_count": 4,
   "metadata": {
    "collapsed": true
   },
   "outputs": [],
   "source": [
    "import requests\n",
    "from lxml import html"
   ]
  },
  {
   "cell_type": "code",
   "execution_count": 5,
   "metadata": {
    "collapsed": true
   },
   "outputs": [],
   "source": [
    "url = 'https://www.datawhatnow.com'"
   ]
  },
  {
   "cell_type": "code",
   "execution_count": 6,
   "metadata": {
    "collapsed": false
   },
   "outputs": [],
   "source": [
    "response = requests.get(url)\n",
    "parsed_page = html.fromstring(response.content)"
   ]
  },
  {
   "cell_type": "code",
   "execution_count": 10,
   "metadata": {
    "collapsed": false
   },
   "outputs": [
    {
     "data": {
      "text/plain": [
       "['Introduction to batch processing – MapReduce',\n",
       " 'Pseudo-labeling a simple semi-supervised learning method',\n",
       " 'Introduction to web scraping with Python',\n",
       " 'SimHash for question deduplication',\n",
       " 'Feature importance and why it’s important']"
      ]
     },
     "execution_count": 10,
     "metadata": {},
     "output_type": "execute_result"
    }
   ],
   "source": [
    "parsed_page.xpath('//h2/a/text()')"
   ]
  },
  {
   "cell_type": "code",
   "execution_count": 11,
   "metadata": {
    "collapsed": true
   },
   "outputs": [],
   "source": [
    "post_urls = parsed_page.xpath('//h2//a/@href')"
   ]
  },
  {
   "cell_type": "code",
   "execution_count": 12,
   "metadata": {
    "collapsed": false
   },
   "outputs": [
    {
     "data": {
      "text/plain": [
       "['https://datawhatnow.com/batch-processing-mapreduce/',\n",
       " 'https://datawhatnow.com/pseudo-labeling-semi-supervised-learning/',\n",
       " 'https://datawhatnow.com/introduction-web-scraping-python/',\n",
       " 'https://datawhatnow.com/simhash-question-deduplicatoin/',\n",
       " 'https://datawhatnow.com/feature-importance/']"
      ]
     },
     "execution_count": 12,
     "metadata": {},
     "output_type": "execute_result"
    }
   ],
   "source": [
    "post_urls"
   ]
  },
  {
   "cell_type": "code",
   "execution_count": 15,
   "metadata": {
    "collapsed": false
   },
   "outputs": [
    {
     "name": "stdout",
     "output_type": "stream",
     "text": [
      "['Batch processing', 'MapReduce', 'Execution', 'Map', 'Reduce', 'Practical example', 'Conclusion', 'GitHub', 'Newsletter', 'Recent Posts', 'Archives', 'Cookies']\n",
      "['Pseudo-labeling', 'Data preprocessing and exploration', 'Results', 'Conclusion', 'GitHub', 'Newsletter', 'Recent Posts', 'Archives', 'Cookies']\n",
      "['Web scraping with Python', 'Crawling', 'Robots', 'Conclusion', 'GitHub', 'Newsletter', 'Recent Posts', 'Archives', 'Cookies']\n",
      "['SimHash', 'Features', 'Model performance', 'Conclusion', 'References', 'GitHub', 'Newsletter', 'Recent Posts', 'Archives', 'Cookies']\n",
      "['Data exploration', 'Feature engineering', 'Baseline model performance', 'Feature\\xa0importance', 'Model performance with feature importance analysis', 'Conclusion', 'GitHub', 'Newsletter', 'Recent Posts', 'Archives', 'Cookies']\n"
     ]
    }
   ],
   "source": [
    "for u in post_urls:\n",
    "    response = requests.get(u)\n",
    "    parsed_page = html.fromstring(response.content)\n",
    "    print(parsed_page.xpath('//h3/text()'))"
   ]
  },
  {
   "cell_type": "code",
   "execution_count": null,
   "metadata": {
    "collapsed": true
   },
   "outputs": [],
   "source": []
  }
 ],
 "metadata": {
  "anaconda-cloud": {},
  "kernelspec": {
   "display_name": "Python [conda env:Anaconda3]",
   "language": "python",
   "name": "conda-env-Anaconda3-py"
  },
  "language_info": {
   "codemirror_mode": {
    "name": "ipython",
    "version": 3
   },
   "file_extension": ".py",
   "mimetype": "text/x-python",
   "name": "python",
   "nbconvert_exporter": "python",
   "pygments_lexer": "ipython3",
   "version": "3.5.4"
  }
 },
 "nbformat": 4,
 "nbformat_minor": 1
}
